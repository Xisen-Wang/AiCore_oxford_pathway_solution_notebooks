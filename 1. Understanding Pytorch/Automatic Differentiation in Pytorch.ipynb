{
 "cells": [
  {
   "attachments": {},
   "cell_type": "markdown",
   "metadata": {},
   "source": [
    "# Automatic differentiation in Pytorch\n",
    "\n",
    "PyTorch is an open-source machine learning library based on the Torch library, used for applications such as computer vision and natural language processing. It provides a flexible and intuitive interface for creating and training deep learning models, and also supports tensor computation with strong GPU acceleration. At its heart though is a simple concept, the torch tensor - a variable type that resembles a numpy array. but with added features to perform automatic differentiation.\n",
    "\n",
    "In the code block below, create a variable called `x` and assign it a value of 1.0.\n",
    "Then convert it to a torch tensor, setting `requires_grad` to True."
   ]
  },
  {
   "cell_type": "code",
   "execution_count": 36,
   "metadata": {},
   "outputs": [],
   "source": [
    "import torch\n",
    "\n",
    "import torch\n",
    "x=[1.0]\n",
    "# Create a tensor with requires_grad set to True\n",
    "x = torch.tensor(x, requires_grad=True)"
   ]
  },
  {
   "attachments": {},
   "cell_type": "markdown",
   "metadata": {},
   "source": [
    "In the next codeblock, define a function called `quadratic_function` that takes in a value of x, and applies a quadratic function to it, for example (3 * x^2 + 2x + 10). Apply it to `x`, and assign the output to a variable called `y`."
   ]
  },
  {
   "cell_type": "code",
   "execution_count": 39,
   "metadata": {},
   "outputs": [
    {
     "name": "stdout",
     "output_type": "stream",
     "text": [
      "tensor([10.])\n"
     ]
    }
   ],
   "source": [
    "def quadratic_function(x):\n",
    "    return 3 * (x ** 2) + 2 * x + 10\n",
    "\n",
    "y=quadratic_function(x)\n",
    "y.backward()\n",
    "print(x.grad)"
   ]
  },
  {
   "attachments": {},
   "cell_type": "markdown",
   "metadata": {},
   "source": [
    "Now call the `torch.backward()` method on y, and print the `grad` of x."
   ]
  },
  {
   "cell_type": "code",
   "execution_count": null,
   "metadata": {},
   "outputs": [],
   "source": []
  }
 ],
 "metadata": {
  "language_info": {
   "name": "python"
  },
  "orig_nbformat": 4
 },
 "nbformat": 4,
 "nbformat_minor": 2
}
