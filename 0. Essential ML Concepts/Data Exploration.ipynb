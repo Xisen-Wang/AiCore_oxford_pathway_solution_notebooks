{
 "cells": [
  {
   "cell_type": "code",
   "execution_count": 1,
   "metadata": {},
   "outputs": [],
   "source": [
    "import numpy as np\n",
    "import matplotlib"
   ]
  },
  {
   "attachments": {},
   "cell_type": "markdown",
   "metadata": {},
   "source": [
    "The data for this practical are stored in two numpy files called `labels_data` and `features_data`. Use the `np.load` function to bring them into the workspace and assign them to variables called `features` and `labels`."
   ]
  },
  {
   "cell_type": "code",
   "execution_count": 2,
   "metadata": {},
   "outputs": [],
   "source": [
    "features=np.load('features_data.npy')\n",
    "labels= np.load('labels_data.npy')"
   ]
  },
  {
   "attachments": {},
   "cell_type": "markdown",
   "metadata": {},
   "source": [
    "Find the shape of the labels and features variables:"
   ]
  },
  {
   "cell_type": "code",
   "execution_count": 4,
   "metadata": {},
   "outputs": [
    {
     "name": "stdout",
     "output_type": "stream",
     "text": [
      "Features shape:\n",
      "(100, 9)\n",
      "label shape:\n",
      "(100,)\n"
     ]
    }
   ],
   "source": [
    "print('Features shape:')\n",
    "print(features.shape)\n",
    "print('label shape:')\n",
    "print(labels.shape)"
   ]
  },
  {
   "attachments": {},
   "cell_type": "markdown",
   "metadata": {},
   "source": [
    "Now do some exploratory data analysis. Calculate the mean and std of all the features, for rows where the label is 1. Then do the same for all the features for rows where the label is 2."
   ]
  },
  {
   "cell_type": "code",
   "execution_count": 7,
   "metadata": {},
   "outputs": [
    {
     "name": "stdout",
     "output_type": "stream",
     "text": [
      "Features mean:\n",
      "[14.93252755 13.463351   16.0471507  13.31171485 14.73099241 15.48630602\n",
      " 15.96595021 15.52464033 13.90696972]\n",
      "Features stdev:\n",
      "[22.96906542 23.90274293 22.8853209  24.87078348 23.58614876 23.34754206\n",
      " 22.45102578 25.49999292 26.23798323]\n"
     ]
    }
   ],
   "source": [
    "print('Features mean:')\n",
    "print(np.mean(features,0))\n",
    "\n",
    "print('Features stdev:')\n",
    "print(np.std(features, 0))\n",
    "\n"
   ]
  },
  {
   "attachments": {},
   "cell_type": "markdown",
   "metadata": {},
   "source": [
    "Now use Matplotlib to create a scatter plot, where the values of feature 1 are on the X axis and the values of feature 2 are on the Y axis. Plot the values of feature 1 and feature 2 for all the rows where the class label is zero. \n",
    "\n",
    "Then scatter the feature 1 and feature 2 values against each other for class label 1, in a different colour."
   ]
  },
  {
   "cell_type": "code",
   "execution_count": 23,
   "metadata": {},
   "outputs": [
    {
     "data": {
      "text/plain": [
       "<matplotlib.collections.PathCollection at 0x1464aa110>"
      ]
     },
     "execution_count": 23,
     "metadata": {},
     "output_type": "execute_result"
    },
    {
     "data": {
      "image/png": "[encoded data removed]",
      "text/plain": [
       "<Figure size 640x480 with 1 Axes>"
      ]
     },
     "metadata": {},
     "output_type": "display_data"
    }
   ],
   "source": [
    "import matplotlib.pyplot as plt\n",
    "feature_1=features[:,0]\n",
    "feature_2=features[:,1]\n",
    "\n",
    "x_data=feature_1[labels==0]\n",
    "y_data=feature_2[labels==0]\n",
    "plt.scatter(x_data, y_data, color=(0.0, 0.0, 1.0))\n",
    "\n",
    "x_data=feature_1[labels==1]\n",
    "y_data=feature_2[labels==1]\n",
    "plt.scatter(x_data, y_data, color=(1.0, 0.0, 0.0))"
   ]
  }
 ],
 "metadata": {
  "kernelspec": {
   "display_name": "huggingface1",
   "language": "python",
   "name": "python3"
  },
  "language_info": {
   "codemirror_mode": {
    "name": "ipython",
    "version": 3
   },
   "file_extension": ".py",
   "mimetype": "text/x-python",
   "name": "python",
   "nbconvert_exporter": "python",
   "pygments_lexer": "ipython3",
   "version": "3.10.8"
  },
  "orig_nbformat": 4,
  "vscode": {
   "interpreter": {
    "hash": "e36d4b688d7e3685ae8ad6703c0e99019531dd9f05b6e8f8c82292a1f759bcdc"
   }
  }
 },
 "nbformat": 4,
 "nbformat_minor": 2
}
